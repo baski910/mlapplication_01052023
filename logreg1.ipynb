{
 "cells": [
  {
   "cell_type": "code",
   "execution_count": 3,
   "id": "ea35fd71",
   "metadata": {},
   "outputs": [],
   "source": [
    "import pandas as pd\n",
    "import numpy as np\n",
    "from sklearn.model_selection import train_test_split\n",
    "from sklearn.linear_model import LogisticRegression"
   ]
  },
  {
   "cell_type": "code",
   "execution_count": 4,
   "id": "bf09e0d7",
   "metadata": {},
   "outputs": [
    {
     "name": "stdout",
     "output_type": "stream",
     "text": [
      "   Self_Study_Daily  Tution_Monthly  Pass_Or_Fail\n",
      "0                 7              27             1\n",
      "1                 2              43             0\n",
      "2                 7              26             1\n",
      "3                 8              29             1\n",
      "4                 3              42             0\n"
     ]
    }
   ],
   "source": [
    "df = pd.read_csv('Student-Pass-Fail-Data.csv')\n",
    "\n",
    "print(df.head())"
   ]
  },
  {
   "cell_type": "code",
   "execution_count": 6,
   "id": "f5036132",
   "metadata": {},
   "outputs": [
    {
     "name": "stdout",
     "output_type": "stream",
     "text": [
      "     Self_Study_Daily  Tution_Monthly\n",
      "0                   7              27\n",
      "1                   2              43\n",
      "2                   7              26\n",
      "3                   8              29\n",
      "4                   3              42\n",
      "..                ...             ...\n",
      "995                 6              22\n",
      "996                 9              30\n",
      "997                 3              39\n",
      "998                 7              25\n",
      "999                 5              37\n",
      "\n",
      "[1000 rows x 2 columns]\n"
     ]
    }
   ],
   "source": [
    "x = df.drop(['Pass_Or_Fail'],axis=1)\n",
    "print(x)"
   ]
  },
  {
   "cell_type": "code",
   "execution_count": 7,
   "id": "bb98dd9a",
   "metadata": {},
   "outputs": [
    {
     "name": "stdout",
     "output_type": "stream",
     "text": [
      "0      1\n",
      "1      0\n",
      "2      1\n",
      "3      1\n",
      "4      0\n",
      "      ..\n",
      "995    1\n",
      "996    1\n",
      "997    0\n",
      "998    1\n",
      "999    0\n",
      "Name: Pass_Or_Fail, Length: 1000, dtype: int64\n"
     ]
    }
   ],
   "source": [
    "y = df['Pass_Or_Fail']\n",
    "\n",
    "print(y)"
   ]
  },
  {
   "cell_type": "code",
   "execution_count": 8,
   "id": "29b36258",
   "metadata": {},
   "outputs": [],
   "source": [
    "x_train,x_test,y_train,y_test = train_test_split(x,y,test_size=0.20,random_state=1)\n",
    "\n",
    "logreg = LogisticRegression()\n",
    "\n",
    "logreg.fit(x_train,y_train)\n",
    "\n",
    "y_pred = logreg.predict(x_test)"
   ]
  },
  {
   "cell_type": "code",
   "execution_count": 9,
   "id": "39a92813",
   "metadata": {},
   "outputs": [
    {
     "name": "stdout",
     "output_type": "stream",
     "text": [
      "     Actual  Predicted\n",
      "507       0          1\n",
      "818       1          1\n",
      "452       0          0\n",
      "368       1          1\n",
      "242       1          1\n",
      "929       1          1\n",
      "262       1          1\n",
      "810       0          0\n",
      "318       1          1\n",
      "49        0          1\n",
      "446       0          0\n",
      "142       0          0\n",
      "968       1          1\n",
      "345       1          1\n",
      "971       0          0\n",
      "133       0          0\n",
      "104       1          1\n",
      "6         0          0\n",
      "600       1          1\n",
      "496       1          1\n",
      "702       1          1\n",
      "472       1          1\n",
      "598       0          0\n",
      "502       0          0\n",
      "433       0          0\n"
     ]
    }
   ],
   "source": [
    "df1 = pd.DataFrame({'Actual': y_test,'Predicted': y_pred})\n",
    "\n",
    "print(df1.head(25))"
   ]
  },
  {
   "cell_type": "code",
   "execution_count": 12,
   "id": "998db3c4",
   "metadata": {},
   "outputs": [
    {
     "data": {
      "image/png": "[encoded data removed]",
      "text/plain": [
       "<Figure size 432x288 with 1 Axes>"
      ]
     },
     "metadata": {
      "needs_background": "light"
     },
     "output_type": "display_data"
    }
   ],
   "source": [
    "import matplotlib.pyplot as plt\n",
    "\n",
    "df1.plot(kind='bar')\n",
    "\n",
    "plt.show()"
   ]
  },
  {
   "cell_type": "code",
   "execution_count": null,
   "id": "b4547541",
   "metadata": {},
   "outputs": [],
   "source": []
  }
 ],
 "metadata": {
  "kernelspec": {
   "display_name": "Python 3 (ipykernel)",
   "language": "python",
   "name": "python3"
  },
  "language_info": {
   "codemirror_mode": {
    "name": "ipython",
    "version": 3
   },
   "file_extension": ".py",
   "mimetype": "text/x-python",
   "name": "python",
   "nbconvert_exporter": "python",
   "pygments_lexer": "ipython3",
   "version": "3.7.3"
  }
 },
 "nbformat": 4,
 "nbformat_minor": 5
}
